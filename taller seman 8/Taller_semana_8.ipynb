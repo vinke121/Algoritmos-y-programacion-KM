{
  "cells": [
    {
      "cell_type": "markdown",
      "metadata": {
        "id": "QZ6XziVD76Jw"
      },
      "source": [
        "<h1 align=\"center\">Taller - Instrucciones repetitivas en Python</h1>\n",
        "\n",
        "Desarrolle la solucion a los siguientes problemas en Python, usando funciones y el programa correspondiente\n",
        "\n",
        "---"
      ]
    },
    {
      "cell_type": "markdown",
      "metadata": {
        "id": "uJJp2xk076J1"
      },
      "source": [
        "## Ejercicio 01\n",
        "\n",
        "Una librería ofrece dos tipos de descuentos ante la compra de un libro. Si el libro tiene un precio inferior a cien mil pesos, el descuento es del 12% del precio; pero en cualquier otro caso, el descuento asciende a un 18%.\n",
        "\n",
        "* Escriba una función que halle el precio neto de un libro (precio menos descuento) de un libro, dado el precio del libro.\n",
        "* Ahora, escriba un programa que permita leer el precio de varios libros (finalizar cuando el precio es cero o negativo) y mostrar para cada libro, el precio neto (usando la función desarrollada anteriormente)"
      ]
    },
    {
      "cell_type": "code",
      "execution_count": 6,
      "metadata": {
        "id": "58mamZV176J2"
      },
      "outputs": [
        {
          "ename": "ValueError",
          "evalue": "could not convert string to float: ''",
          "output_type": "error",
          "traceback": [
            "\u001b[31m---------------------------------------------------------------------------\u001b[39m",
            "\u001b[31mValueError\u001b[39m                                Traceback (most recent call last)",
            "\u001b[36mCell\u001b[39m\u001b[36m \u001b[39m\u001b[32mIn[6]\u001b[39m\u001b[32m, line 10\u001b[39m\n\u001b[32m      8\u001b[39m \u001b[38;5;66;03m#programa principal\u001b[39;00m\n\u001b[32m      9\u001b[39m \u001b[38;5;28;01mwhile\u001b[39;00m \u001b[38;5;28;01mTrue\u001b[39;00m :\n\u001b[32m---> \u001b[39m\u001b[32m10\u001b[39m     precio_libro=\u001b[38;5;28;43mfloat\u001b[39;49m\u001b[43m(\u001b[49m\u001b[38;5;28;43minput\u001b[39;49m\u001b[43m(\u001b[49m\u001b[33;43m\"\u001b[39;49m\u001b[33;43mingrese el precio del libro:\u001b[39;49m\u001b[33;43m\"\u001b[39;49m\u001b[43m)\u001b[49m\u001b[43m)\u001b[49m\n\u001b[32m     11\u001b[39m     precio_neto=hallar_precio_neto(precio_libro)\n\u001b[32m     12\u001b[39m     \u001b[38;5;28;01mif\u001b[39;00m(precio_libro<=\u001b[32m0\u001b[39m):\n",
            "\u001b[31mValueError\u001b[39m: could not convert string to float: ''"
          ]
        }
      ],
      "source": [
        "#definicion de la funcion\n",
        "def hallar_precio_neto(precio_libro:float)->float:\n",
        "    if(precio_libro<100000):\n",
        "        precio_neto=precio_libro-(precio_libro*0.12)\n",
        "    else:\n",
        "        precio_neto=precio_libro-(precio_libro*0.18)\n",
        "    return precio_neto\n",
        "#programa principal\n",
        "while True :\n",
        "    precio_libro=float(input(\"ingrese el precio del libro:\"))\n",
        "    precio_neto=hallar_precio_neto(precio_libro)\n",
        "    if(precio_libro<=0):\n",
        "        break\n",
        "    print(\"el precio neto es:\",precio_neto)\n"
      ]
    },
    {
      "cell_type": "markdown",
      "metadata": {
        "id": "jF4Qm9FE76J3"
      },
      "source": [
        "---"
      ]
    },
    {
      "cell_type": "markdown",
      "metadata": {
        "id": "weyR_q0d76J4"
      },
      "source": [
        "## Ejercicio 02\n",
        "\n",
        "Un vendedor recibe una comisión por el volumen de ventas que realice. Las reglas para asignarle la comisión al vendedor son las siguientes:\n",
        "\n",
        "Ventas | Comisión\n",
        "---|---\n",
        "Inferior a 50 mil pesos | 7% de las ventas\n",
        "Entre 50 mil y 100 mil pesos | 9% de las ventas más 5 mil pesos\n",
        "Entre 100 mil y 200 mil pesos | 11% de las ventas más 10 mil pesos\n",
        "Entre 200 mil y 500 mil pesos | 13% de las ventas más 20 mil pesos\n",
        "Más de 500 mil pesos | 15% de las ventas más 40 mil pesos\n",
        "\n",
        "* Escriba una función que recibe el valor de las ventas de un vendedor y que retorne la comisión\n",
        "* Escriba un programa que lea el valor de ventas de varios vendedores de la empresa (finalizar cuando las ventas sean negativas), y usando la función anterior, calcule la comisión y la imprima por pantalla."
      ]
    },
    {
      "cell_type": "code",
      "execution_count": 1,
      "metadata": {
        "id": "kMitVJVW76J4"
      },
      "outputs": [
        {
          "name": "stdout",
          "output_type": "stream",
          "text": [
            "la comision del vendedor es 53500.0\n"
          ]
        },
        {
          "ename": "ValueError",
          "evalue": "could not convert string to float: ''",
          "output_type": "error",
          "traceback": [
            "\u001b[31m---------------------------------------------------------------------------\u001b[39m",
            "\u001b[31mValueError\u001b[39m                                Traceback (most recent call last)",
            "\u001b[36mCell\u001b[39m\u001b[36m \u001b[39m\u001b[32mIn[1]\u001b[39m\u001b[32m, line 23\u001b[39m\n\u001b[32m     21\u001b[39m ventas = hallar_comision(ventas)\n\u001b[32m     22\u001b[39m \u001b[38;5;28mprint\u001b[39m(\u001b[33mf\u001b[39m\u001b[33m\"\u001b[39m\u001b[33mla comision del vendedor es \u001b[39m\u001b[38;5;132;01m{\u001b[39;00mventas\u001b[38;5;132;01m}\u001b[39;00m\u001b[33m\"\u001b[39m)\n\u001b[32m---> \u001b[39m\u001b[32m23\u001b[39m ventas=\u001b[38;5;28;43mfloat\u001b[39;49m\u001b[43m(\u001b[49m\u001b[38;5;28;43minput\u001b[39;49m\u001b[43m(\u001b[49m\u001b[33;43m\"\u001b[39;49m\u001b[33;43mingrese el valor de la venta: \u001b[39;49m\u001b[33;43m\"\u001b[39;49m\u001b[43m)\u001b[49m\u001b[43m)\u001b[49m\n",
            "\u001b[31mValueError\u001b[39m: could not convert string to float: ''"
          ]
        }
      ],
      "source": [
        "# Definición de la función\n",
        "\n",
        "def hallar_comision(ventas:float)->float:\n",
        "    if(ventas<=50000):\n",
        "        ventas=ventas+(ventas*0.07)\n",
        "    elif(ventas>50000 and ventas<100000):\n",
        "        ventas=ventas+(ventas*0.09)+5000\n",
        "    elif(ventas>100000 and ventas<200000):\n",
        "        ventas=ventas+(ventas*0.11)+10000\n",
        "    elif(ventas>200000 and ventas<500000):\n",
        "        ventas=ventas+(ventas*0.13)+20000\n",
        "    elif(ventas>500000):\n",
        "        ventas=ventas+(ventas*0.15)+40000\n",
        "    return ventas\n",
        "\n",
        "\n",
        "# Programa principal\n",
        "\n",
        "ventas=float(input(\"ingrese el valor de la venta: \"))\n",
        "while ventas>0:\n",
        "    ventas = hallar_comision(ventas)\n",
        "    print(f\"la comision del vendedor es {ventas}\")\n",
        "    ventas=float(input(\"ingrese el valor de la venta: \"))"
      ]
    },
    {
      "cell_type": "markdown",
      "metadata": {
        "id": "YWyFJrR876J4"
      },
      "source": [
        "---\n"
      ]
    },
    {
      "cell_type": "markdown",
      "metadata": {
        "id": "2IHUrLVh76J5"
      },
      "source": [
        "## Ejercicio 03\n",
        "\n",
        "Una empresa ofrece a sus empleados un salario mensual fijo, y un porcertaje de las ventas como una comisión adicional a ese salario mensual. Esta comisión se calcula de la siguiente manera: si las ventas de un empleado excede los 50 mil pesoso, la comisión será de un 12% de las ventas que están por encima de los 50 mil pesos, en otro caso no habrá comisión.\n",
        "\n",
        "* Primero, construya una función en la que dado las ventas que hizo el empleado, determine cuánto es la comisión\n",
        "* Ahora hay que hacer un programa que calcule y muestre los salarios y comisiones de todos los empleados de la empresa. Para cada empleado hay que preguntarle al usuario, el salario mensual y las ventas realizadas, y mostrar la comisión por las ventas (usando la función anterior) y el salario neto (salario más comisión). Como no sabemos cuántos empleados hay, después de mostrar esta información, debemos preguntarle al usuario si desea seguir o no."
      ]
    },
    {
      "cell_type": "code",
      "execution_count": 46,
      "metadata": {
        "id": "aTuMvKmw76J5"
      },
      "outputs": [
        {
          "name": "stdout",
          "output_type": "stream",
          "text": [
            "la comision por las ventas es: 10800\n",
            "el salario neto es: 110800\n",
            "la comision por las ventas es: 120000\n",
            "el salario neto es: 720000\n"
          ]
        }
      ],
      "source": [
        "# Definición de la función\n",
        "def comision_empleado(ventas:float)->float:\n",
        "    if (ventas > 50000):\n",
        "        comision = ventas * 0.12\n",
        "    else:\n",
        "        comision=0\n",
        "    return comision\n",
        "\n",
        "\n",
        "# Programa principal\n",
        "ventas=float(input(\"total de las ventas realizadas: \"))\n",
        "salario_fijo=float(input(\"ingrese su salario: \"))\n",
        "while ventas>50000:\n",
        "    comision= comision_empleado(ventas)\n",
        "    salario_neto=salario_fijo+comision\n",
        "    print(f\"la comision por las ventas es: {comision:.0f}\")\n",
        "    print(f\"el salario neto es: {salario_neto:.0f}\")\n",
        "    \n",
        "    continuar=input(\"desea continuar con otro empleado si/no: \")\n",
        "    if(continuar != \"si\"):\n",
        "        break\n",
        "    ventas=float(input(\"total de las ventas realizadas: \"))\n",
        "    salario_fijo=float(input(\"ingrese su salario: \")) "
      ]
    },
    {
      "cell_type": "markdown",
      "metadata": {
        "id": "6M93ZEZh76J5"
      },
      "source": [
        "---"
      ]
    },
    {
      "cell_type": "markdown",
      "metadata": {
        "id": "ge6TBY0P76J6"
      },
      "source": [
        "## Ejercicio 04\n",
        "\n",
        "En una empresa se le paga a los trabajadores al final de cada semana de acuerdo a las reglas dadas a continuación:\n",
        "\n",
        "* Si trabajas 35 horas o menos, se le paga un valor de 15 mil pesos la hora;\n",
        "* Si trabaja más de 35 horas pero menos de 60, el valor de la hora es de 15 mil por las primeras 35 horas y de 18 mil por cada hora trabajada por encima de las 35\n",
        "* Si trabaja más de 60 horas, las primeras 35 se pagan a 15 mil, las siguiente 25 horas a 18 mil cada una y las horas horas trabajadas por encima de las 60 horas, se le paga a 25 mil pesos cada una.\n",
        "\n",
        "Vamos a buscar imprimir el salario semanal de cada uno de los empleados de la empresa. Para ello:\n",
        "\n",
        "* Escriba una función que reciba el número de horas trabajadas por un empleado y retorne el salario\n",
        "* Un programa que le pregunte al usuario el número de empleados que trabajan en la empresa, y para cada uno de esos, pregunte el número de horas trabajadas en la semana, y usando la función anterior, imprima el salario mensual de ese empleado."
      ]
    },
    {
      "cell_type": "code",
      "execution_count": null,
      "metadata": {
        "id": "o8NultX076J6"
      },
      "outputs": [
        {
          "name": "stdout",
          "output_type": "stream",
          "text": [
            "el sueldo semanal del empleado 8 es: 3900000\n",
            "975000\n"
          ]
        },
        {
          "ename": "ValueError",
          "evalue": "invalid literal for int() with base 10: ''",
          "output_type": "error",
          "traceback": [
            "\u001b[31m---------------------------------------------------------------------------\u001b[39m",
            "\u001b[31mValueError\u001b[39m                                Traceback (most recent call last)",
            "\u001b[36mCell\u001b[39m\u001b[36m \u001b[39m\u001b[32mIn[29]\u001b[39m\u001b[32m, line 14\u001b[39m\n\u001b[32m     12\u001b[39m numero_de_empleados= \u001b[38;5;28mint\u001b[39m(\u001b[38;5;28minput\u001b[39m(\u001b[33m\"\u001b[39m\u001b[33mingrese el numero de empleados: \u001b[39m\u001b[33m\"\u001b[39m))\n\u001b[32m     13\u001b[39m \u001b[38;5;28;01mfor\u001b[39;00m i \u001b[38;5;129;01min\u001b[39;00m \u001b[38;5;28mrange\u001b[39m(\u001b[32m1\u001b[39m, numero_de_empleados, \u001b[32m1\u001b[39m):\n\u001b[32m---> \u001b[39m\u001b[32m14\u001b[39m     horas=\u001b[38;5;28;43mint\u001b[39;49m\u001b[43m(\u001b[49m\u001b[38;5;28;43minput\u001b[39;49m\u001b[43m(\u001b[49m\u001b[33;43m\"\u001b[39;49m\u001b[33;43mingrese el numero de horas trabajadas en la semana: \u001b[39;49m\u001b[33;43m\"\u001b[39;49m\u001b[43m)\u001b[49m\u001b[43m)\u001b[49m\n\u001b[32m     15\u001b[39m     sueldo_semanal = salario_semanal(horas)\n\u001b[32m     16\u001b[39m     sueldo_mensual = sueldo_semanal * \u001b[32m4\u001b[39m\n",
            "\u001b[31mValueError\u001b[39m: invalid literal for int() with base 10: ''"
          ]
        }
      ],
      "source": [
        "# Definición de la función\n",
        "def salario_semanal(horas:int)->int:\n",
        "    if(horas<=35):\n",
        "        sueldo=horas*15000\n",
        "    if(horas>35 and horas <60):\n",
        "        sueldo = 35 * 15000 + (horas - 35) * 18000\n",
        "    if(horas>=60):\n",
        "        sueldo = 35 * 15000  + 25 * 18000 +  (horas - 60) * 25000\n",
        "    return sueldo\n",
        "    # Programa principal\n",
        "\n",
        "numero_de_empleados= int(input(\"ingrese el numero de empleados: \"))\n",
        "for i in range(1, numero_de_empleados, 1):\n",
        "    horas=int(input(\"ingrese el numero de horas trabajadas en la semana: \"))\n",
        "    sueldo_semanal = salario_semanal(horas)\n",
        "    sueldo_mensual = sueldo_semanal * 4\n",
        "    print(f\"el sueldo semanal del empleado numero {numero_de_empleados} es: {sueldo_mensual}\")\n",
        "    print(sueldo_semanal)\n",
        "\n",
        "    "
      ]
    }
  ],
  "metadata": {
    "colab": {
      "name": "Taller_03.ipynb",
      "provenance": []
    },
    "kernelspec": {
      "display_name": "Python 3",
      "language": "python",
      "name": "python3"
    },
    "language_info": {
      "codemirror_mode": {
        "name": "ipython",
        "version": 3
      },
      "file_extension": ".py",
      "mimetype": "text/x-python",
      "name": "python",
      "nbconvert_exporter": "python",
      "pygments_lexer": "ipython3",
      "version": "3.13.2"
    }
  },
  "nbformat": 4,
  "nbformat_minor": 0
}
